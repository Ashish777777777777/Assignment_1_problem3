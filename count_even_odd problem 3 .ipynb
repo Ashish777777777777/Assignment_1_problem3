{
 "cells": [
  {
   "cell_type": "code",
   "execution_count": 1,
   "id": "c9e7f71e",
   "metadata": {},
   "outputs": [
    {
     "name": "stdout",
     "output_type": "stream",
     "text": [
      "Enter a series of numbers separated by spaces: 22 33 43 56 67 86 34 56 75 34 56 45\n",
      "Number of even numbers: 7\n",
      "Number of odd numbers: 5\n"
     ]
    }
   ],
   "source": [
    "def count_even_odd(numbers):\n",
    "    even_count = 0\n",
    "    odd_count = 0\n",
    "\n",
    "    for num in numbers:\n",
    "        if num % 2 == 0:\n",
    "            even_count += 1\n",
    "        else:\n",
    "            odd_count += 1\n",
    "\n",
    "    return even_count, odd_count\n",
    "\n",
    "user_input = input(\"Enter a series of numbers separated by spaces: \")\n",
    "numbers = tuple(map(int, user_input.split()))\n",
    "\n",
    "even_count, odd_count = count_even_odd(numbers)\n",
    "\n",
    "print(\"Number of even numbers:\", even_count)\n",
    "print(\"Number of odd numbers:\", odd_count)\n"
   ]
  },
  {
   "cell_type": "code",
   "execution_count": null,
   "id": "27727c14",
   "metadata": {},
   "outputs": [],
   "source": []
  }
 ],
 "metadata": {
  "kernelspec": {
   "display_name": "Python 3 (ipykernel)",
   "language": "python",
   "name": "python3"
  },
  "language_info": {
   "codemirror_mode": {
    "name": "ipython",
    "version": 3
   },
   "file_extension": ".py",
   "mimetype": "text/x-python",
   "name": "python",
   "nbconvert_exporter": "python",
   "pygments_lexer": "ipython3",
   "version": "3.10.9"
  }
 },
 "nbformat": 4,
 "nbformat_minor": 5
}
